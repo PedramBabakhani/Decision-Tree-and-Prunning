{
 "cells": [
  {
   "cell_type": "markdown",
   "metadata": {},
   "source": [
    "# Decision Tree"
   ]
  },
  {
   "cell_type": "code",
   "execution_count": 210,
   "metadata": {
    "collapsed": true
   },
   "outputs": [],
   "source": [
    "import pandas as pd\n",
    "import numpy as np\n",
    "import matplotlib.pyplot as plt "
   ]
  },
  {
   "cell_type": "code",
   "execution_count": 211,
   "metadata": {},
   "outputs": [
    {
     "data": {
      "text/html": [
       "<div>\n",
       "<style scoped>\n",
       "    .dataframe tbody tr th:only-of-type {\n",
       "        vertical-align: middle;\n",
       "    }\n",
       "\n",
       "    .dataframe tbody tr th {\n",
       "        vertical-align: top;\n",
       "    }\n",
       "\n",
       "    .dataframe thead th {\n",
       "        text-align: right;\n",
       "    }\n",
       "</style>\n",
       "<table border=\"1\" class=\"dataframe\">\n",
       "  <thead>\n",
       "    <tr style=\"text-align: right;\">\n",
       "      <th></th>\n",
       "      <th>buying</th>\n",
       "      <th>maint</th>\n",
       "      <th>doors</th>\n",
       "      <th>person</th>\n",
       "      <th>Lug_boot</th>\n",
       "      <th>safty</th>\n",
       "      <th>evaluation</th>\n",
       "    </tr>\n",
       "  </thead>\n",
       "  <tbody>\n",
       "    <tr>\n",
       "      <th>0</th>\n",
       "      <td>vhigh</td>\n",
       "      <td>vhigh</td>\n",
       "      <td>2</td>\n",
       "      <td>2</td>\n",
       "      <td>small</td>\n",
       "      <td>low</td>\n",
       "      <td>unacc</td>\n",
       "    </tr>\n",
       "    <tr>\n",
       "      <th>1</th>\n",
       "      <td>vhigh</td>\n",
       "      <td>vhigh</td>\n",
       "      <td>2</td>\n",
       "      <td>2</td>\n",
       "      <td>small</td>\n",
       "      <td>med</td>\n",
       "      <td>unacc</td>\n",
       "    </tr>\n",
       "    <tr>\n",
       "      <th>2</th>\n",
       "      <td>vhigh</td>\n",
       "      <td>vhigh</td>\n",
       "      <td>2</td>\n",
       "      <td>2</td>\n",
       "      <td>small</td>\n",
       "      <td>high</td>\n",
       "      <td>unacc</td>\n",
       "    </tr>\n",
       "    <tr>\n",
       "      <th>3</th>\n",
       "      <td>vhigh</td>\n",
       "      <td>vhigh</td>\n",
       "      <td>2</td>\n",
       "      <td>2</td>\n",
       "      <td>med</td>\n",
       "      <td>low</td>\n",
       "      <td>unacc</td>\n",
       "    </tr>\n",
       "    <tr>\n",
       "      <th>4</th>\n",
       "      <td>vhigh</td>\n",
       "      <td>vhigh</td>\n",
       "      <td>2</td>\n",
       "      <td>2</td>\n",
       "      <td>med</td>\n",
       "      <td>med</td>\n",
       "      <td>unacc</td>\n",
       "    </tr>\n",
       "  </tbody>\n",
       "</table>\n",
       "</div>"
      ],
      "text/plain": [
       "  buying  maint doors person Lug_boot safty evaluation\n",
       "0  vhigh  vhigh     2      2    small   low      unacc\n",
       "1  vhigh  vhigh     2      2    small   med      unacc\n",
       "2  vhigh  vhigh     2      2    small  high      unacc\n",
       "3  vhigh  vhigh     2      2      med   low      unacc\n",
       "4  vhigh  vhigh     2      2      med   med      unacc"
      ]
     },
     "execution_count": 211,
     "metadata": {},
     "output_type": "execute_result"
    }
   ],
   "source": [
    "#data set 1 (  car evaluation safty)\n",
    "URL = \"https://archive.ics.uci.edu/ml/machine-learning-databases/car/car.data\"\n",
    "data = pd.read_csv(URL, \n",
    "                    sep=\",\",header=None,names= (['buying','maint','doors', 'person','Lug_boot','safty','evaluation']) )\n",
    "data.head()"
   ]
  },
  {
   "cell_type": "code",
   "execution_count": 212,
   "metadata": {
    "collapsed": true
   },
   "outputs": [],
   "source": [
    "# Divides a set on a specific column\n",
    "def divideset(rows,column,value):\n",
    "   # Make a function that tells us if a row is in the first group (true) or the second group (false)\n",
    "   split_function=None\n",
    "   if isinstance(value,int) or isinstance(value,float):\n",
    "      split_function=lambda row:row[column]>=value\n",
    "   else:\n",
    "      split_function=lambda row:row[column]==value\n",
    "   # Divide the rows into two sets and return them\n",
    "   set1=[row for row in rows if split_function(row)]\n",
    "   set2=[row for row in rows if not split_function(row)]\n",
    "   return set1,set2"
   ]
  },
  {
   "cell_type": "code",
   "execution_count": 213,
   "metadata": {
    "collapsed": true
   },
   "outputs": [],
   "source": [
    "# Create counts of possible results\n",
    "def uniquecounts(rows):\n",
    "   results = {}\n",
    "   for row in rows:\n",
    "      r = row[len(row)-1]\n",
    "      if r not in results: results[r]=0\n",
    "      results[r]+=1\n",
    "   return results"
   ]
  },
  {
   "cell_type": "code",
   "execution_count": 214,
   "metadata": {
    "collapsed": true
   },
   "outputs": [],
   "source": [
    "# Entropy is the sum of -p(x)log(p(x))\n",
    "def entropy(rows):\n",
    "   from math import log\n",
    "   results=uniquecounts(rows)\n",
    "   # Now calculate the entropy\n",
    "   ent=0.0\n",
    "   for r in results.keys():\n",
    "      p=float(results[r])/len(rows)\n",
    "      ent=ent-p*log(p)\n",
    "   return ent"
   ]
  },
  {
   "cell_type": "code",
   "execution_count": 215,
   "metadata": {
    "collapsed": true
   },
   "outputs": [],
   "source": [
    "##Gini Index\n",
    "def gini(rows):\n",
    "    results = uniquecounts(rows)\n",
    "    gini_ind = 1.0\n",
    "    for r in results.keys():\n",
    "        p = float(results[r])/len(rows)\n",
    "        gini_ind = gini_ind - p**2\n",
    "    return gini_ind"
   ]
  },
  {
   "cell_type": "code",
   "execution_count": 216,
   "metadata": {},
   "outputs": [],
   "source": [
    "## Class object for decision tree nodes\n",
    "class decisionnode:\n",
    "  def __init__(self,col=-1,value=None,results=None,tb=None,fb=None, gain=0, leaf_node=False, feature_lvl_score=None, validation_error=0):\n",
    "    self.col=col\n",
    "    self.value=value\n",
    "    self.results=results\n",
    "    self.tb=tb\n",
    "    self.fb=fb\n",
    "    self.gain=gain\n",
    "    self.leaf_node =leaf_node\n",
    "    self.feature_lvl_score= feature_lvl_score\n",
    "    self.validation_error = validation_error"
   ]
  },
  {
   "cell_type": "code",
   "execution_count": 217,
   "metadata": {
    "collapsed": true
   },
   "outputs": [],
   "source": [
    "## Building Decision Tree nodes\n",
    "def buildtree(rows, depth=100, scoref=entropy): \n",
    "  if len(rows)==0: return decisionnode()\n",
    "  current_score=scoref(rows)\n",
    "  # Variables to track the best criteria\n",
    "  best_gain=0.0\n",
    "  best_criteria= None\n",
    "  best_sets=None\n",
    "  feature_lvl_score= {}\n",
    "  column_count=len(rows[0])-1   \n",
    "  for col in range(0,column_count):\n",
    "    temp_feature_lvl_score = 1\n",
    "    global column_values\n",
    "    column_values={}            \n",
    "    for row in rows:\n",
    "       column_values[row[col]]=1   \n",
    "    for value in column_values.keys(): \n",
    "      (set1,set2)=divideset(rows,col,value)\n",
    "      # Information gain\n",
    "      p=float(len(set1))/len(rows) \n",
    "      gain=current_score-p*scoref(set1)-(1-p)*scoref(set2)\n",
    "      if len(set1)>0 and len(set2)>0:\n",
    "            temp_feature_lvl_score= min(temp_feature_lvl_score, (p*scoref(set1)+(1-p)*scoref(set2)))\n",
    "      if gain>best_gain and len(set1)>0 and len(set2)>0:\n",
    "        best_gain=gain\n",
    "        best_criteria=(col,value)\n",
    "        best_sets=(set1,set2)\n",
    "    feature_lvl_score[col]=temp_feature_lvl_score   \n",
    "  # Create the subbranches   \n",
    "  if best_gain>0 and depth>0:\n",
    "    depth = depth-1\n",
    "    trueBranch=buildtree(best_sets[0], depth, scoref)\n",
    "    falseBranch=buildtree(best_sets[1], depth, scoref)\n",
    "    return decisionnode(col=best_criteria[0],value=best_criteria[1],\n",
    "                        tb=trueBranch,fb=falseBranch, gain=best_gain, results=uniquecounts(rows), \n",
    "                        feature_lvl_score=feature_lvl_score)\n",
    "  else:\n",
    "    return decisionnode(results=uniquecounts(rows),leaf_node=True,feature_lvl_score=feature_lvl_score)"
   ]
  },
  {
   "cell_type": "code",
   "execution_count": 218,
   "metadata": {},
   "outputs": [],
   "source": [
    "data_train = data.sample(frac=0.8,random_state=100)\n",
    "data_test = data.drop(data_train.index)\n",
    "data_train.reset_index(drop=True,inplace=True)\n",
    "data_test.reset_index(drop=True,inplace=True)"
   ]
  },
  {
   "cell_type": "code",
   "execution_count": 219,
   "metadata": {
    "collapsed": true
   },
   "outputs": [],
   "source": [
    "data_train_lst= data_train.as_matrix()\n",
    "data_train_lst = data_train_lst.tolist()\n",
    "data_test_lst= data_test.as_matrix()\n",
    "data_test_lst = data_test_lst.tolist()"
   ]
  },
  {
   "cell_type": "code",
   "execution_count": 220,
   "metadata": {},
   "outputs": [],
   "source": [
    "##Building Decision Tree Using Entropy Loss \n",
    "depth = 3\n",
    "Entropy_tree=buildtree(data_train_lst,depth, scoref=entropy)"
   ]
  },
  {
   "cell_type": "code",
   "execution_count": 221,
   "metadata": {
    "collapsed": true
   },
   "outputs": [],
   "source": [
    "##Building Decision Tree Using Gini Index\n",
    "depth = 3\n",
    "Gini_tree=buildtree(data_train_lst,depth, gini)"
   ]
  },
  {
   "cell_type": "code",
   "execution_count": 222,
   "metadata": {
    "collapsed": true
   },
   "outputs": [],
   "source": [
    "##  Breadth first tree traversal level nodes ordering\n",
    "def get_neighbors(tree_node):\n",
    "    if tree_node.leaf_node==False:\n",
    "        return [tree_node.tb, tree_node.fb]\n",
    "    else:\n",
    "        return []\n",
    "\n",
    "def bfs(tree):\n",
    "    queue = [tree]\n",
    "    visited = [tree]\n",
    "\n",
    "    while queue:\n",
    "        node = queue.pop(0)\n",
    "\n",
    "        for neighbor in get_neighbors(node):\n",
    "            if neighbor not in visited:\n",
    "                queue.append(neighbor)\n",
    "                visited.append(neighbor)\n",
    "    return visited"
   ]
  },
  {
   "cell_type": "code",
   "execution_count": 223,
   "metadata": {},
   "outputs": [
    {
     "name": "stdout",
     "output_type": "stream",
     "text": [
      "{'unacc': 962, 'acc': 308, 'good': 56, 'vgood': 56}\n",
      "{'unacc': 468}\n",
      "{'acc': 308, 'unacc': 494, 'good': 56, 'vgood': 56}\n",
      "{'unacc': 310}\n",
      "{'acc': 308, 'unacc': 184, 'good': 56, 'vgood': 56}\n",
      "{'unacc': 94, 'acc': 55}\n",
      "{'acc': 253, 'good': 56, 'vgood': 56, 'unacc': 90}\n"
     ]
    }
   ],
   "source": [
    "for i in bfs(Entropy_tree):\n",
    "    print (i.results)"
   ]
  },
  {
   "cell_type": "markdown",
   "metadata": {},
   "source": [
    "### Plot the results"
   ]
  },
  {
   "cell_type": "code",
   "execution_count": 224,
   "metadata": {},
   "outputs": [
    {
     "data": {
      "image/png": "[encoded data removed]",
      "text/plain": [
       "<matplotlib.figure.Figure at 0x1247b439b70>"
      ]
     },
     "metadata": {},
     "output_type": "display_data"
    }
   ],
   "source": [
    "bfs_nodes = bfs(Entropy_tree)\n",
    "fig, ax = plt.subplots(3, int(np.ceil(len(bfs_nodes)/3)),figsize=(10,10))\n",
    "for i in range(len(bfs_nodes)):\n",
    "    j = int(np.floor(i/3))\n",
    "    list_values = [ v for v in bfs_nodes[i].results.values() ]\n",
    "    list_values\n",
    "    sum_list_values = sum(list_values)\n",
    "    list_values = [x/sum_list_values for x in list_values]\n",
    "    opacity = 0.4\n",
    "    bar_width = 0.5\n",
    "    ax[j,(i-j*3)].bar(range(len(list_values)) ,list_values, bar_width, alpha=opacity,color='b')\n",
    "    ax[j,(i-j*3)].set_xlabel(\"Class\",fontsize=8)\n",
    "    ax[j,(i-j*3)].set_ylabel(\"Probability\",fontsize=8)\n",
    "    ax[j,(i-j*3)].set_xticks(np.arange(len(list_values)), [ k for k in bfs_nodes[i].results ])\n",
    "    ax[j,(i-j*3)].set_xlim(0,3)\n",
    "    ax[j,(i-j*3)].set_ylim(0,1)\n",
    "    ax[j,(i-j*3)].set_title('Node:'+str(i)+', Leaf_Node:'+str(bfs_nodes[i].leaf_node), fontsize=8)\n",
    "    plt.sca(ax[j,(i-j*3)])\n",
    "    plt.xticks(np.arange(len(list_values))+0.25,[ k for k in bfs_nodes[i].results.keys() ], fontsize=8)\n",
    "plt.suptitle('Class Probability (Entropy)')\n",
    "plt.tight_layout()\n",
    "fig.subplots_adjust(top=0.88)\n",
    "plt.show()"
   ]
  },
  {
   "cell_type": "code",
   "execution_count": 225,
   "metadata": {},
   "outputs": [
    {
     "data": {
      "image/png": "[encoded data removed]",
      "text/plain": [
       "<matplotlib.figure.Figure at 0x12401f24908>"
      ]
     },
     "metadata": {},
     "output_type": "display_data"
    }
   ],
   "source": [
    "bfs_nodes = bfs(Gini_tree)\n",
    "fig, ax = plt.subplots(3, int(np.ceil(len(bfs_nodes)/3)),figsize=(10,10))\n",
    "for i in range(len(bfs_nodes)):\n",
    "    j = int(np.floor(i/3))\n",
    "    list_values = [ v for v in bfs_nodes[i].results.values() ]\n",
    "    list_values\n",
    "    sum_list_values = sum(list_values)\n",
    "    list_values = [x/sum_list_values for x in list_values]\n",
    "    \n",
    "    opacity = 0.4\n",
    "    bar_width = 0.5\n",
    "    ax[j,(i-j*3)].bar(range(len(list_values)) ,list_values, bar_width, alpha=opacity, color='b')\n",
    "    ax[j,(i-j*3)].set_xlabel(\"Class\",fontsize=8)\n",
    "    ax[j,(i-j*3)].set_ylabel(\"Probability\",fontsize=8)\n",
    "    ax[j,(i-j*3)].set_xlim(0,3)\n",
    "    ax[j,(i-j*3)].set_ylim(0,1)\n",
    "    ax[j,(i-j*3)].set_title('Node:'+str(i)+',Leaf_Node:'+str(bfs_nodes[i].leaf_node), fontsize=8)\n",
    "    plt.sca(ax[j,(i-j*3)])\n",
    "    plt.xticks(np.arange(len(list_values))+0.25,[ k for k in bfs_nodes[i].results.keys() ], fontsize=8)\n",
    "plt.suptitle('Class Probability (Gini Index)')\n",
    "plt.tight_layout()\n",
    "fig.subplots_adjust(top=0.88)\n",
    "plt.show()"
   ]
  },
  {
   "cell_type": "code",
   "execution_count": 226,
   "metadata": {},
   "outputs": [
    {
     "data": {
      "image/png": "[encoded data removed]",
      "text/plain": [
       "<matplotlib.figure.Figure at 0x12401f24208>"
      ]
     },
     "metadata": {},
     "output_type": "display_data"
    }
   ],
   "source": [
    "bfs_nodes = bfs(Entropy_tree)\n",
    "fig, ax = plt.subplots(3, int(np.ceil(len(bfs_nodes)/3)),figsize=(10,10))\n",
    "for i in range(len(bfs_nodes)):\n",
    "    j = int(np.floor(i/3))\n",
    "    list_values = [ v for v in bfs_nodes[i].feature_lvl_score.values() ]\n",
    "    opacity = 0.4\n",
    "    bar_width = 0.5\n",
    "    ax[j,(i-j*3)].bar(range(len(list_values)) ,list_values, bar_width, alpha=opacity,color='b')\n",
    "    ax[j,(i-j*3)].set_xlabel(\"Features\",fontsize=8)\n",
    "    ax[j,(i-j*3)].set_ylabel(\"Best Split Entropy\",fontsize=8)\n",
    "    ax[j,(i-j*3)].set_xlim(0,4)\n",
    "    ax[j,(i-j*3)].set_ylim(0,1)\n",
    "    ax[j,(i-j*3)].set_title('Node:'+str(i)+',Leaf_Node:'+str(bfs_nodes[i].leaf_node), fontsize=8)\n",
    "    plt.sca(ax[j,(i-j*3)])\n",
    "    plt.xticks(np.arange(len(list_values))+0.25,['buying','maint','doors', 'person','Lug_boot','safty'], fontsize=6)\n",
    "plt.suptitle('Best Split Entropy for different Features at different nodes')\n",
    "plt.tight_layout()\n",
    "fig.subplots_adjust(top=0.88)\n",
    "plt.show()"
   ]
  },
  {
   "cell_type": "code",
   "execution_count": 227,
   "metadata": {},
   "outputs": [
    {
     "data": {
      "image/png": "[encoded data removed]",
      "text/plain": [
       "<matplotlib.figure.Figure at 0x12402b77fd0>"
      ]
     },
     "metadata": {},
     "output_type": "display_data"
    }
   ],
   "source": [
    "bfs_nodes = bfs(Gini_tree)\n",
    "fig, ax = plt.subplots(3, int(np.ceil(len(bfs_nodes)/3)),figsize=(10,10))\n",
    "\n",
    "for i in range(len(bfs_nodes)):\n",
    "    j = int(np.floor(i/3))\n",
    "    list_values = [ v for v in bfs_nodes[i].feature_lvl_score.values() ]\n",
    "\n",
    "    opacity = 0.4\n",
    "    bar_width = 0.5\n",
    "    ax[j,(i-j*3)].bar(range(len(list_values)) ,list_values, bar_width, alpha=opacity, color='b')\n",
    "    ax[j,(i-j*3)].set_xlabel(\"Features\",fontsize=8)\n",
    "    ax[j,(i-j*3)].set_ylabel(\"Best Split GiniIndex\",fontsize=8)\n",
    "    ax[j,(i-j*3)].set_xlim(0,4)\n",
    "    ax[j,(i-j*3)].set_ylim(0,1)\n",
    "    ax[j,(i-j*3)].set_title('Node:'+str(i)+',Leaf_Node:'+str(bfs_nodes[i].leaf_node), fontsize=8)\n",
    "    plt.sca(ax[j,(i-j*3)])\n",
    "    plt.xticks(np.arange(len(list_values))+0.25,['sepal_length','sepal_width','petal_length', 'petal_width'], fontsize=6)\n",
    "plt.suptitle('Best Split Gini Index')\n",
    "plt.tight_layout()\n",
    "fig.subplots_adjust(top=0.88)\n",
    "plt.show()"
   ]
  },
  {
   "cell_type": "code",
   "execution_count": 228,
   "metadata": {},
   "outputs": [
    {
     "data": {
      "image/png": "[encoded data removed]",
      "text/plain": [
       "<matplotlib.figure.Figure at 0x12402aa4ac8>"
      ]
     },
     "metadata": {},
     "output_type": "display_data"
    }
   ],
   "source": [
    "bfs_nodes = bfs(Entropy_tree)\n",
    "entropy_gain = {}\n",
    "for i in range(len(bfs_nodes)):\n",
    "    entropy_gain[i]= bfs_nodes[i].gain\n",
    "opacity = 0.4\n",
    "bar_width = 0.5\n",
    "entropy_gain_key = [x for x in entropy_gain.keys()]\n",
    "entropy_gain_value = [x for x in entropy_gain.values()]\n",
    "plt.bar(range(len(entropy_gain)) ,entropy_gain_value, bar_width, alpha=opacity,color='b')\n",
    "plt.xticks(np.arange(len(entropy_gain))+0.25,entropy_gain_key)\n",
    "plt.xlabel(\"Node Hierarchy\")\n",
    "plt.ylabel(\"Entropy Gain\")\n",
    "plt.title(\"Entropy Gain\")\n",
    "plt.show()"
   ]
  },
  {
   "cell_type": "code",
   "execution_count": 230,
   "metadata": {},
   "outputs": [
    {
     "data": {
      "image/png": "[encoded data removed]",
      "text/plain": [
       "<matplotlib.figure.Figure at 0x12403247dd8>"
      ]
     },
     "metadata": {},
     "output_type": "display_data"
    }
   ],
   "source": [
    "bfs_nodes = bfs(Gini_tree)\n",
    "entropy_gain = {}\n",
    "for i in range(len(bfs_nodes)):\n",
    "    entropy_gain[i]= bfs_nodes[i].gain\n",
    "opacity = 0.4\n",
    "bar_width = 0.5\n",
    "entropy_gain_key = [x for x in entropy_gain.keys()]\n",
    "entropy_gain_value = [x for x in entropy_gain.values()]\n",
    "plt.bar(range(len(entropy_gain)) ,entropy_gain_value, bar_width, alpha=opacity, color='b')\n",
    "plt.xticks(np.arange(len(entropy_gain))+0.25,entropy_gain_key)\n",
    "plt.xlabel(\"Node Hierarchy\")\n",
    "plt.ylabel(\"Gini Gain\")\n",
    "plt.title(\"Gini Gain at diffeernt decision nodes\")\n",
    "plt.show()"
   ]
  },
  {
   "cell_type": "markdown",
   "metadata": {
    "collapsed": true
   },
   "source": [
    "### Test Data"
   ]
  },
  {
   "cell_type": "code",
   "execution_count": 231,
   "metadata": {
    "collapsed": true
   },
   "outputs": [],
   "source": [
    "## Functions to predict on test data\n",
    "def classify(observation,tree):\n",
    "  if tree.leaf_node==True:\n",
    "#     return max(tree.results, key=tree.results.get)\n",
    "    return [max(tree.results.keys(), key=(lambda k: tree.results[k])),tree]\n",
    "  else:\n",
    "    v=observation[tree.col]\n",
    "    branch=None\n",
    "    if isinstance(v,int) or isinstance(v,float):\n",
    "      if v>=tree.value: branch=tree.tb\n",
    "      else: branch=tree.fb\n",
    "    else:\n",
    "      if v==tree.value: branch=tree.tb\n",
    "      else: branch=tree.fb\n",
    "    return classify(observation,branch)\n",
    "\n",
    "def tree_predict(test_data,tree):\n",
    "    predicted_value = []\n",
    "    for row in test_data:\n",
    "        predicted_value.append(classify(row,tree))\n",
    "    return predicted_value"
   ]
  },
  {
   "cell_type": "code",
   "execution_count": 232,
   "metadata": {},
   "outputs": [],
   "source": [
    "## Prediction on test data using entropy loss decision tree\n",
    "test_pred = tree_predict(data_test_lst,Entropy_tree)"
   ]
  },
  {
   "cell_type": "code",
   "execution_count": 233,
   "metadata": {},
   "outputs": [
    {
     "name": "stdout",
     "output_type": "stream",
     "text": [
      "Accuracy: 0.0709049890155393\n"
     ]
    },
    {
     "name": "stderr",
     "output_type": "stream",
     "text": [
      "C:\\Anacounda\\lib\\site-packages\\ipykernel_launcher.py:8: DeprecationWarning: \n",
      ".ix is deprecated. Please use\n",
      ".loc for label based indexing or\n",
      ".iloc for positional indexing\n",
      "\n",
      "See the documentation here:\n",
      "http://pandas.pydata.org/pandas-docs/stable/indexing.html#ix-indexer-is-deprecated\n",
      "  \n"
     ]
    }
   ],
   "source": [
    "## Log loss(Entropy loss) on test data\n",
    "import sys\n",
    "test_pred = tree_predict(data_test_lst,Entropy_tree)\n",
    "test_resultDF = pd.DataFrame({'Actual_Label':data_test[\"evaluation\"],'Predicted_Label':np.array(test_pred)[:,0], 'Predicted_Group':np.array(test_pred)[:,1]})\n",
    "test_group = test_resultDF.Predicted_Group.unique()\n",
    "pred_total_entropy = 0.0\n",
    "for i in range(len(test_group)):\n",
    "    temp = test_resultDF.ix[test_resultDF.Predicted_Group==test_group[i],\"Actual_Label\"].tolist()\n",
    "    pred_total_entropy += (entropy(temp))*(len(temp)/len(test_resultDF))\n",
    "initial_entropy = entropy(test_resultDF[\"Actual_Label\"].tolist())\n",
    "entropy_loss = initial_entropy - pred_total_entropy\n",
    "entropy_loss\n",
    "print(\"Accuracy: \" + str(entropy_loss))"
   ]
  },
  {
   "cell_type": "code",
   "execution_count": 234,
   "metadata": {},
   "outputs": [
    {
     "data": {
      "text/html": [
       "<div>\n",
       "<style scoped>\n",
       "    .dataframe tbody tr th:only-of-type {\n",
       "        vertical-align: middle;\n",
       "    }\n",
       "\n",
       "    .dataframe tbody tr th {\n",
       "        vertical-align: top;\n",
       "    }\n",
       "\n",
       "    .dataframe thead th {\n",
       "        text-align: right;\n",
       "    }\n",
       "</style>\n",
       "<table border=\"1\" class=\"dataframe\">\n",
       "  <thead>\n",
       "    <tr style=\"text-align: right;\">\n",
       "      <th>Predicted_Label</th>\n",
       "      <th>acc</th>\n",
       "      <th>unacc</th>\n",
       "    </tr>\n",
       "    <tr>\n",
       "      <th>Actual_Label</th>\n",
       "      <th></th>\n",
       "      <th></th>\n",
       "    </tr>\n",
       "  </thead>\n",
       "  <tbody>\n",
       "    <tr>\n",
       "      <th>acc</th>\n",
       "      <td>59</td>\n",
       "      <td>17</td>\n",
       "    </tr>\n",
       "    <tr>\n",
       "      <th>good</th>\n",
       "      <td>13</td>\n",
       "      <td>0</td>\n",
       "    </tr>\n",
       "    <tr>\n",
       "      <th>unacc</th>\n",
       "      <td>40</td>\n",
       "      <td>208</td>\n",
       "    </tr>\n",
       "    <tr>\n",
       "      <th>vgood</th>\n",
       "      <td>9</td>\n",
       "      <td>0</td>\n",
       "    </tr>\n",
       "  </tbody>\n",
       "</table>\n",
       "</div>"
      ],
      "text/plain": [
       "Predicted_Label  acc  unacc\n",
       "Actual_Label               \n",
       "acc               59     17\n",
       "good              13      0\n",
       "unacc             40    208\n",
       "vgood              9      0"
      ]
     },
     "execution_count": 234,
     "metadata": {},
     "output_type": "execute_result"
    }
   ],
   "source": [
    "pd.crosstab(test_resultDF.Actual_Label, test_resultDF.Predicted_Label)"
   ]
  },
  {
   "cell_type": "code",
   "execution_count": 235,
   "metadata": {},
   "outputs": [],
   "source": [
    "## Prediction on test data using gini loss decision tree\n",
    "test_pred = tree_predict(data_test_lst,Gini_tree)"
   ]
  },
  {
   "cell_type": "code",
   "execution_count": 236,
   "metadata": {},
   "outputs": [
    {
     "name": "stdout",
     "output_type": "stream",
     "text": [
      "Accuracy: 0.0709049890155393\n"
     ]
    },
    {
     "name": "stderr",
     "output_type": "stream",
     "text": [
      "C:\\Anacounda\\lib\\site-packages\\ipykernel_launcher.py:8: DeprecationWarning: \n",
      ".ix is deprecated. Please use\n",
      ".loc for label based indexing or\n",
      ".iloc for positional indexing\n",
      "\n",
      "See the documentation here:\n",
      "http://pandas.pydata.org/pandas-docs/stable/indexing.html#ix-indexer-is-deprecated\n",
      "  \n"
     ]
    }
   ],
   "source": [
    "## Log loss(Entropy loss) on test data\n",
    "test_pred = tree_predict(data_test_lst,Gini_tree)\n",
    "test_resultDF = pd.DataFrame({'Actual_Label':data_test[\"evaluation\"],'Predicted_Label':np.array(test_pred)[:,0], 'Predicted_Group':np.array(test_pred)[:,1]})\n",
    "test_group = test_resultDF.Predicted_Group.unique()\n",
    "\n",
    "pred_total_entropy = 0.0\n",
    "for i in range(len(test_group)):\n",
    "    temp = test_resultDF.ix[test_resultDF.Predicted_Group==test_group[i],\"Actual_Label\"].tolist()\n",
    "    pred_total_entropy += (entropy(temp))*(len(temp)/len(test_resultDF))\n",
    "\n",
    "initial_entropy = entropy(test_resultDF[\"Actual_Label\"].tolist())\n",
    "entropy_loss = initial_entropy - pred_total_entropy\n",
    "print(\"Accuracy: \" + str(entropy_loss))"
   ]
  },
  {
   "cell_type": "code",
   "execution_count": 237,
   "metadata": {},
   "outputs": [
    {
     "data": {
      "text/html": [
       "<div>\n",
       "<style scoped>\n",
       "    .dataframe tbody tr th:only-of-type {\n",
       "        vertical-align: middle;\n",
       "    }\n",
       "\n",
       "    .dataframe tbody tr th {\n",
       "        vertical-align: top;\n",
       "    }\n",
       "\n",
       "    .dataframe thead th {\n",
       "        text-align: right;\n",
       "    }\n",
       "</style>\n",
       "<table border=\"1\" class=\"dataframe\">\n",
       "  <thead>\n",
       "    <tr style=\"text-align: right;\">\n",
       "      <th>Predicted_Label</th>\n",
       "      <th>acc</th>\n",
       "      <th>unacc</th>\n",
       "    </tr>\n",
       "    <tr>\n",
       "      <th>Actual_Label</th>\n",
       "      <th></th>\n",
       "      <th></th>\n",
       "    </tr>\n",
       "  </thead>\n",
       "  <tbody>\n",
       "    <tr>\n",
       "      <th>acc</th>\n",
       "      <td>59</td>\n",
       "      <td>17</td>\n",
       "    </tr>\n",
       "    <tr>\n",
       "      <th>good</th>\n",
       "      <td>13</td>\n",
       "      <td>0</td>\n",
       "    </tr>\n",
       "    <tr>\n",
       "      <th>unacc</th>\n",
       "      <td>40</td>\n",
       "      <td>208</td>\n",
       "    </tr>\n",
       "    <tr>\n",
       "      <th>vgood</th>\n",
       "      <td>9</td>\n",
       "      <td>0</td>\n",
       "    </tr>\n",
       "  </tbody>\n",
       "</table>\n",
       "</div>"
      ],
      "text/plain": [
       "Predicted_Label  acc  unacc\n",
       "Actual_Label               \n",
       "acc               59     17\n",
       "good              13      0\n",
       "unacc             40    208\n",
       "vgood              9      0"
      ]
     },
     "execution_count": 237,
     "metadata": {},
     "output_type": "execute_result"
    }
   ],
   "source": [
    "pd.crosstab(test_resultDF.Actual_Label, test_resultDF.Predicted_Label)"
   ]
  },
  {
   "cell_type": "markdown",
   "metadata": {},
   "source": [
    "## Pruning The Decision Tree (Post Pruning: Reduced Error Prunning)"
   ]
  },
  {
   "cell_type": "code",
   "execution_count": 238,
   "metadata": {},
   "outputs": [],
   "source": [
    "## Test, Train and Validation sets\n",
    "data_train = data.sample(frac=0.34,random_state=100)\n",
    "remaining_data = data.drop(data_train.index)\n",
    "data_train.reset_index(drop=True,inplace=True)"
   ]
  },
  {
   "cell_type": "code",
   "execution_count": 239,
   "metadata": {
    "collapsed": true
   },
   "outputs": [],
   "source": [
    "data_test = remaining_data.sample(frac=0.5,random_state=100)\n",
    "data_Validation = remaining_data.drop(data_test.index)\n",
    "data_test.reset_index(drop=True,inplace=True)\n",
    "data_Validation.reset_index(drop=True,inplace=True)"
   ]
  },
  {
   "cell_type": "code",
   "execution_count": 240,
   "metadata": {},
   "outputs": [
    {
     "name": "stdout",
     "output_type": "stream",
     "text": [
      "(588, 7)\n",
      "(570, 7)\n",
      "(570, 7)\n"
     ]
    }
   ],
   "source": [
    "print(data_train.shape)\n",
    "print(data_test.shape)\n",
    "print(data_Validation.shape)"
   ]
  },
  {
   "cell_type": "code",
   "execution_count": 241,
   "metadata": {
    "collapsed": true
   },
   "outputs": [],
   "source": [
    "data_train_lst= data_train.as_matrix()\n",
    "data_train_lst = data_train_lst.tolist()\n",
    "\n",
    "data_test_lst= data_test.as_matrix()\n",
    "data_test_lst = data_test_lst.tolist()\n",
    "\n",
    "data_Validation_lst= data_Validation.as_matrix()\n",
    "data_Validation_lst = data_Validation_lst.tolist()"
   ]
  },
  {
   "cell_type": "code",
   "execution_count": 242,
   "metadata": {
    "collapsed": true
   },
   "outputs": [],
   "source": [
    "##bulding complete tree\n",
    "complete_tree = buildtree(data_train_lst, scoref=entropy)"
   ]
  },
  {
   "cell_type": "code",
   "execution_count": 243,
   "metadata": {},
   "outputs": [
    {
     "data": {
      "text/html": [
       "<div>\n",
       "<style scoped>\n",
       "    .dataframe tbody tr th:only-of-type {\n",
       "        vertical-align: middle;\n",
       "    }\n",
       "\n",
       "    .dataframe tbody tr th {\n",
       "        vertical-align: top;\n",
       "    }\n",
       "\n",
       "    .dataframe thead th {\n",
       "        text-align: right;\n",
       "    }\n",
       "</style>\n",
       "<table border=\"1\" class=\"dataframe\">\n",
       "  <thead>\n",
       "    <tr style=\"text-align: right;\">\n",
       "      <th>evaluation</th>\n",
       "      <th>acc</th>\n",
       "      <th>good</th>\n",
       "      <th>unacc</th>\n",
       "      <th>vgood</th>\n",
       "    </tr>\n",
       "    <tr>\n",
       "      <th>row_0</th>\n",
       "      <th></th>\n",
       "      <th></th>\n",
       "      <th></th>\n",
       "      <th></th>\n",
       "    </tr>\n",
       "  </thead>\n",
       "  <tbody>\n",
       "    <tr>\n",
       "      <th>acc</th>\n",
       "      <td>107</td>\n",
       "      <td>3</td>\n",
       "      <td>6</td>\n",
       "      <td>4</td>\n",
       "    </tr>\n",
       "    <tr>\n",
       "      <th>good</th>\n",
       "      <td>4</td>\n",
       "      <td>16</td>\n",
       "      <td>0</td>\n",
       "      <td>0</td>\n",
       "    </tr>\n",
       "    <tr>\n",
       "      <th>unacc</th>\n",
       "      <td>8</td>\n",
       "      <td>1</td>\n",
       "      <td>399</td>\n",
       "      <td>0</td>\n",
       "    </tr>\n",
       "    <tr>\n",
       "      <th>vgood</th>\n",
       "      <td>1</td>\n",
       "      <td>5</td>\n",
       "      <td>0</td>\n",
       "      <td>16</td>\n",
       "    </tr>\n",
       "  </tbody>\n",
       "</table>\n",
       "</div>"
      ],
      "text/plain": [
       "evaluation  acc  good  unacc  vgood\n",
       "row_0                              \n",
       "acc         107     3      6      4\n",
       "good          4    16      0      0\n",
       "unacc         8     1    399      0\n",
       "vgood         1     5      0     16"
      ]
     },
     "execution_count": 243,
     "metadata": {},
     "output_type": "execute_result"
    }
   ],
   "source": [
    "temp = tree_predict(data_Validation_lst,complete_tree)\n",
    "pd.crosstab(np.array(temp)[:,0],data_Validation[\"evaluation\"])"
   ]
  },
  {
   "cell_type": "code",
   "execution_count": 244,
   "metadata": {
    "collapsed": true
   },
   "outputs": [],
   "source": [
    "def build_error(row,tree):\n",
    "    if (max(tree.results.keys(), key=(lambda k: tree.results[k])) != row[-1]):\n",
    "        tree.validation_error = tree.validation_error+1\n",
    "    if tree.leaf_node==True:\n",
    "        return\n",
    "    else:\n",
    "        v=row[tree.col]\n",
    "        branch=None\n",
    "        if isinstance(v,int) or isinstance(v,float):\n",
    "            if v>=tree.value: branch=tree.tb\n",
    "            else: branch=tree.fb\n",
    "        else:\n",
    "            if v==tree.value: branch=tree.tb\n",
    "            else: branch=tree.fb\n",
    "    return build_error(row,branch)"
   ]
  },
  {
   "cell_type": "code",
   "execution_count": 245,
   "metadata": {},
   "outputs": [],
   "source": [
    "for row in data_Validation_lst:\n",
    "    build_error(row,complete_tree)"
   ]
  },
  {
   "cell_type": "code",
   "execution_count": 246,
   "metadata": {},
   "outputs": [
    {
     "name": "stdout",
     "output_type": "stream",
     "text": [
      "Validation_error: 165\n"
     ]
    }
   ],
   "source": [
    "print(\"Validation_error: \"+str(complete_tree.validation_error))"
   ]
  },
  {
   "cell_type": "code",
   "execution_count": 247,
   "metadata": {
    "collapsed": true
   },
   "outputs": [],
   "source": [
    "## Printing decision tree at Node hierarchical Level\n",
    "def printtree_error(tree,indent=''):\n",
    "   # Is this a leaf node?\n",
    "    if tree.leaf_node==True:\n",
    "        print('Validation_error:'+str(tree.validation_error))\n",
    "    else:\n",
    "        print(str(tree.col)+':'+str(tree.value)+'  '+'Validation_error:'+str(tree.validation_error))\n",
    "        # Print the branches\n",
    "        print(indent+'True->', end=\" \")\n",
    "        printtree_error(tree.tb,indent+'  ')\n",
    "        print(indent+'False->', end=\" \")\n",
    "        printtree_error(tree.fb,indent+'  ')"
   ]
  },
  {
   "cell_type": "code",
   "execution_count": 248,
   "metadata": {},
   "outputs": [
    {
     "name": "stdout",
     "output_type": "stream",
     "text": [
      "3:2  Validation_error:165\n",
      "True-> Validation_error:0\n",
      "False-> 5:low  Validation_error:165\n",
      "  True-> Validation_error:0\n",
      "  False-> 0:low  Validation_error:125\n",
      "    True-> 1:vhigh  Validation_error:33\n",
      "      True-> 5:high  Validation_error:4\n",
      "        True-> Validation_error:0\n",
      "        False-> 4:big  Validation_error:3\n",
      "          True-> Validation_error:0\n",
      "          False-> 2:5more  Validation_error:0\n",
      "            True-> 4:small  Validation_error:0\n",
      "              True-> Validation_error:0\n",
      "              False-> Validation_error:0\n",
      "            False-> Validation_error:0\n",
      "      False-> 5:high  Validation_error:31\n",
      "        True-> 4:small  Validation_error:10\n",
      "          True-> 2:2  Validation_error:3\n",
      "            True-> Validation_error:1\n",
      "            False-> 1:high  Validation_error:3\n",
      "              True-> Validation_error:0\n",
      "              False-> Validation_error:0\n",
      "          False-> 2:2  Validation_error:2\n",
      "            True-> 4:med  Validation_error:2\n",
      "              True-> 1:high  Validation_error:0\n",
      "                True-> Validation_error:0\n",
      "                False-> Validation_error:0\n",
      "              False-> Validation_error:0\n",
      "            False-> 1:high  Validation_error:1\n",
      "              True-> 2:3  Validation_error:4\n",
      "                True-> Validation_error:2\n",
      "                False-> Validation_error:0\n",
      "              False-> Validation_error:1\n",
      "        False-> 4:small  Validation_error:11\n",
      "          True-> Validation_error:1\n",
      "          False-> 1:high  Validation_error:7\n",
      "            True-> Validation_error:0\n",
      "            False-> 3:more  Validation_error:1\n",
      "              True-> Validation_error:0\n",
      "              False-> 1:low  Validation_error:1\n",
      "                True-> 2:5more  Validation_error:3\n",
      "                  True-> Validation_error:0\n",
      "                  False-> Validation_error:3\n",
      "                False-> Validation_error:1\n",
      "    False-> 0:med  Validation_error:92\n",
      "      True-> 5:high  Validation_error:27\n",
      "        True-> 1:med  Validation_error:14\n",
      "          True-> 4:small  Validation_error:5\n",
      "            True-> Validation_error:0\n",
      "            False-> 3:more  Validation_error:2\n",
      "              True-> Validation_error:1\n",
      "              False-> 2:4  Validation_error:1\n",
      "                True-> Validation_error:0\n",
      "                False-> Validation_error:2\n",
      "          False-> 1:low  Validation_error:9\n",
      "            True-> Validation_error:4\n",
      "            False-> Validation_error:1\n",
      "        False-> 1:low  Validation_error:13\n",
      "          True-> 4:small  Validation_error:7\n",
      "            True-> 2:5more  Validation_error:0\n",
      "              True-> Validation_error:0\n",
      "              False-> Validation_error:4\n",
      "            False-> Validation_error:3\n",
      "          False-> 4:small  Validation_error:9\n",
      "            True-> 1:med  Validation_error:1\n",
      "              True-> Validation_error:0\n",
      "              False-> Validation_error:0\n",
      "            False-> 2:2  Validation_error:2\n",
      "              True-> 1:med  Validation_error:2\n",
      "                True-> Validation_error:0\n",
      "                False-> Validation_error:1\n",
      "              False-> Validation_error:1\n",
      "      False-> 1:vhigh  Validation_error:65\n",
      "        True-> Validation_error:0\n",
      "        False-> 4:small  Validation_error:30\n",
      "          True-> 5:high  Validation_error:8\n",
      "            True-> 1:high  Validation_error:5\n",
      "              True-> 0:high  Validation_error:3\n",
      "                True-> 2:2  Validation_error:0\n",
      "                  True-> Validation_error:1\n",
      "                  False-> Validation_error:0\n",
      "                False-> Validation_error:0\n",
      "              False-> 2:2  Validation_error:2\n",
      "                True-> 0:high  Validation_error:2\n",
      "                  True-> Validation_error:2\n",
      "                  False-> Validation_error:0\n",
      "                False-> Validation_error:0\n",
      "            False-> Validation_error:0\n",
      "          False-> 1:high  Validation_error:10\n",
      "            True-> 0:vhigh  Validation_error:9\n",
      "              True-> Validation_error:0\n",
      "              False-> 2:2  Validation_error:1\n",
      "                True-> 4:med  Validation_error:3\n",
      "                  True-> Validation_error:1\n",
      "                  False-> Validation_error:0\n",
      "                False-> Validation_error:1\n",
      "            False-> 4:big  Validation_error:1\n",
      "              True-> Validation_error:0\n",
      "              False-> 5:med  Validation_error:1\n",
      "                True-> 2:5more  Validation_error:1\n",
      "                  True-> Validation_error:0\n",
      "                  False-> 1:low  Validation_error:4\n",
      "                    True-> 2:2  Validation_error:1\n",
      "                      True-> Validation_error:0\n",
      "                      False-> Validation_error:0\n",
      "                    False-> Validation_error:1\n",
      "                False-> Validation_error:0\n"
     ]
    }
   ],
   "source": [
    "printtree_error(complete_tree)"
   ]
  },
  {
   "cell_type": "code",
   "execution_count": 249,
   "metadata": {},
   "outputs": [],
   "source": [
    "number_of_nodes = bfs(Entropy_tree)"
   ]
  },
  {
   "cell_type": "code",
   "execution_count": null,
   "metadata": {
    "collapsed": true
   },
   "outputs": [],
   "source": []
  }
 ],
 "metadata": {
  "anaconda-cloud": {},
  "kernelspec": {
   "display_name": "Python 3",
   "language": "python",
   "name": "python3"
  },
  "language_info": {
   "codemirror_mode": {
    "name": "ipython",
    "version": 3
   },
   "file_extension": ".py",
   "mimetype": "text/x-python",
   "name": "python",
   "nbconvert_exporter": "python",
   "pygments_lexer": "ipython3",
   "version": "3.7.3"
  }
 },
 "nbformat": 4,
 "nbformat_minor": 1
}
